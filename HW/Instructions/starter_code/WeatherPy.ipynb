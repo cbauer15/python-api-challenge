{
 "cells": [
  {
   "cell_type": "markdown",
   "metadata": {},
   "source": [
    "# WeatherPy\n",
    "----\n",
    "\n",
    "#### Note\n",
    "* Instructions have been included for each segment. You do not have to follow them exactly, but they are included to help you think through the steps."
   ]
  },
  {
   "cell_type": "code",
   "execution_count": 2,
   "metadata": {
    "scrolled": true
   },
   "outputs": [],
   "source": [
    "# Dependencies and Setup\n",
    "import matplotlib.pyplot as plt\n",
    "import pandas as pd\n",
    "import numpy as np\n",
    "import requests\n",
    "import time\n",
    "from scipy.stats import stats\n",
    "from scipy.stats import linregress\n",
    "\n",
    "# Import API key\n",
    "from api_keys import weather_api_key\n",
    "\n",
    "# Incorporated citipy to determine city based on latitude and longitude\n",
    "from citipy import citipy\n",
    "\n",
    "# Output File (CSV)\n",
    "output_data_file = \"output_data/cities.csv\"\n",
    "\n",
    "# Range of latitudes and longitudes\n",
    "lat_range = (-90, 90)\n",
    "lng_range = (-180, 180)"
   ]
  },
  {
   "cell_type": "markdown",
   "metadata": {},
   "source": [
    "## Generate Cities List"
   ]
  },
  {
   "cell_type": "code",
   "execution_count": 3,
   "metadata": {},
   "outputs": [
    {
     "data": {
      "text/plain": [
       "573"
      ]
     },
     "execution_count": 3,
     "metadata": {},
     "output_type": "execute_result"
    }
   ],
   "source": [
    "# List for holding lat_lngs and cities\n",
    "lat_lngs = []\n",
    "cities = []\n",
    "temp = []\n",
    "humidity = []\n",
    "cloudPercent = []\n",
    "windSpeed = []\n",
    "\n",
    "# Create a set of random lat and lng combinations\n",
    "lats = np.random.uniform(lat_range[0], lat_range[1], size=1500)\n",
    "lngs = np.random.uniform(lng_range[0], lng_range[1], size=1500)\n",
    "lat_lngs = zip(lats, lngs)\n",
    "\n",
    "# Identify nearest city for each lat, lng combination\n",
    "for lat_lng in lat_lngs:\n",
    "    city = citipy.nearest_city(lat_lng[0], lat_lng[1]).city_name\n",
    "    \n",
    "    # If the city is unique, then add it to a our cities list\n",
    "    if city not in cities:\n",
    "        cities.append(city)\n",
    "# Print the city count to confirm sufficient count\n",
    "len(cities)"
   ]
  },
  {
   "cell_type": "code",
   "execution_count": 4,
   "metadata": {},
   "outputs": [
    {
     "data": {
      "text/html": [
       "<div>\n",
       "<style scoped>\n",
       "    .dataframe tbody tr th:only-of-type {\n",
       "        vertical-align: middle;\n",
       "    }\n",
       "\n",
       "    .dataframe tbody tr th {\n",
       "        vertical-align: top;\n",
       "    }\n",
       "\n",
       "    .dataframe thead th {\n",
       "        text-align: right;\n",
       "    }\n",
       "</style>\n",
       "<table border=\"1\" class=\"dataframe\">\n",
       "  <thead>\n",
       "    <tr style=\"text-align: right;\">\n",
       "      <th></th>\n",
       "      <th>City</th>\n",
       "    </tr>\n",
       "  </thead>\n",
       "  <tbody>\n",
       "    <tr>\n",
       "      <th>0</th>\n",
       "      <td>sola</td>\n",
       "    </tr>\n",
       "    <tr>\n",
       "      <th>1</th>\n",
       "      <td>pangnirtung</td>\n",
       "    </tr>\n",
       "    <tr>\n",
       "      <th>2</th>\n",
       "      <td>butaritari</td>\n",
       "    </tr>\n",
       "    <tr>\n",
       "      <th>3</th>\n",
       "      <td>mahebourg</td>\n",
       "    </tr>\n",
       "    <tr>\n",
       "      <th>4</th>\n",
       "      <td>atuona</td>\n",
       "    </tr>\n",
       "  </tbody>\n",
       "</table>\n",
       "</div>"
      ],
      "text/plain": [
       "          City\n",
       "0         sola\n",
       "1  pangnirtung\n",
       "2   butaritari\n",
       "3    mahebourg\n",
       "4       atuona"
      ]
     },
     "execution_count": 4,
     "metadata": {},
     "output_type": "execute_result"
    }
   ],
   "source": [
    "weather_df = pd.DataFrame(cities).rename(columns={0: \"City\"})\n",
    "weather_df.head()"
   ]
  },
  {
   "cell_type": "code",
   "execution_count": 5,
   "metadata": {},
   "outputs": [
    {
     "name": "stdout",
     "output_type": "stream",
     "text": [
      "Processing Record 0 | sola\n",
      "Processing Record 1 | pangnirtung\n",
      "Processing Record 2 | butaritari\n",
      "Processing Record 3 | mahebourg\n",
      "Processing Record 4 | atuona\n",
      "Processing Record 5 | avarua\n",
      "Processing Record 6 | hilo\n",
      "Processing Record 7 | jucurutu\n",
      "Processing Record 8 | saint-philippe\n",
      "Processing Record 9 | karaul\n",
      "Missing Field... Skipping\n",
      "Processing Record 10 | tsagan aman\n",
      "Processing Record 11 | sentyabrskiy\n",
      "Missing Field... Skipping\n",
      "Processing Record 12 | thompson\n",
      "Processing Record 13 | leningradskiy\n",
      "Processing Record 14 | tuatapere\n",
      "Processing Record 15 | cape town\n",
      "Processing Record 16 | mataura\n",
      "Processing Record 17 | punta arenas\n",
      "Processing Record 18 | norman wells\n",
      "Processing Record 19 | hobart\n",
      "Processing Record 20 | carnarvon\n",
      "Processing Record 21 | merauke\n",
      "Processing Record 22 | ocos\n",
      "Processing Record 23 | chokurdakh\n",
      "Processing Record 24 | barrow\n",
      "Processing Record 25 | victoria\n",
      "Processing Record 26 | lima\n",
      "Processing Record 27 | luena\n",
      "Processing Record 28 | salalah\n",
      "Processing Record 29 | fukue\n",
      "Processing Record 30 | ersekvadkert\n",
      "Processing Record 31 | axim\n",
      "Processing Record 32 | provideniya\n",
      "Processing Record 33 | mys shmidta\n",
      "Missing Field... Skipping\n",
      "Processing Record 34 | mackay\n",
      "Processing Record 35 | hermanus\n",
      "Processing Record 36 | tawkar\n",
      "Missing Field... Skipping\n",
      "Processing Record 37 | new norfolk\n",
      "Processing Record 38 | tuscaloosa\n",
      "Processing Record 39 | longyearbyen\n",
      "Processing Record 40 | lavrentiya\n",
      "Processing Record 41 | wulanhaote\n",
      "Missing Field... Skipping\n",
      "Processing Record 42 | albany\n",
      "Processing Record 43 | mzimba\n",
      "Processing Record 44 | rikitea\n",
      "Processing Record 45 | hofn\n",
      "Processing Record 46 | yellowknife\n",
      "Processing Record 47 | west wendover\n",
      "Processing Record 48 | tiksi\n",
      "Processing Record 49 | vilyuysk\n",
      "Processing Record 50 | todos santos\n",
      "Processing Record 51 | kavieng\n",
      "Processing Record 52 | shaowu\n",
      "Processing Record 53 | flinders\n",
      "Processing Record 54 | sisimiut\n",
      "Processing Record 55 | bredasdorp\n",
      "Processing Record 56 | kapaa\n",
      "Processing Record 57 | busselton\n",
      "Processing Record 58 | castro\n",
      "Processing Record 59 | taolanaro\n",
      "Missing Field... Skipping\n",
      "Processing Record 60 | polson\n",
      "Processing Record 61 | ekibastuz\n",
      "Processing Record 62 | vaini\n",
      "Processing Record 63 | chapulhuacan\n",
      "Processing Record 64 | clyde river\n",
      "Processing Record 65 | airai\n",
      "Processing Record 66 | zhigansk\n",
      "Processing Record 67 | turukhansk\n",
      "Processing Record 68 | muzhi\n",
      "Processing Record 69 | puerto ayora\n",
      "Processing Record 70 | qaanaaq\n",
      "Processing Record 71 | nanortalik\n",
      "Processing Record 72 | nikolskoye\n",
      "Processing Record 73 | alice springs\n",
      "Processing Record 74 | borogontsy\n",
      "Processing Record 75 | pokrovsk-uralskiy\n",
      "Missing Field... Skipping\n",
      "Processing Record 76 | ushuaia\n",
      "Processing Record 77 | san patricio\n",
      "Processing Record 78 | vaitupu\n",
      "Missing Field... Skipping\n",
      "Processing Record 79 | trindade\n",
      "Processing Record 80 | chuy\n",
      "Processing Record 81 | isangel\n",
      "Processing Record 82 | pervomayskiy\n",
      "Processing Record 83 | ishinomaki\n",
      "Processing Record 84 | hithadhoo\n",
      "Processing Record 85 | paciran\n",
      "Processing Record 86 | tuktoyaktuk\n",
      "Processing Record 87 | maniitsoq\n",
      "Processing Record 88 | bridlington\n",
      "Processing Record 89 | mar del plata\n",
      "Processing Record 90 | kurilsk\n",
      "Processing Record 91 | vestmanna\n",
      "Processing Record 92 | jamestown\n",
      "Processing Record 93 | aswan\n",
      "Processing Record 94 | port alfred\n",
      "Processing Record 95 | visnes\n",
      "Processing Record 96 | tabiauea\n",
      "Missing Field... Skipping\n",
      "Processing Record 97 | ajdabiya\n",
      "Processing Record 98 | wawa\n",
      "Processing Record 99 | tsihombe\n",
      "Missing Field... Skipping\n",
      "Processing Record 100 | bubaque\n",
      "Processing Record 101 | yaan\n",
      "Processing Record 102 | nedjo\n",
      "Processing Record 103 | tamandare\n",
      "Processing Record 104 | fort nelson\n",
      "Processing Record 105 | ngunguru\n",
      "Processing Record 106 | ponta do sol\n",
      "Processing Record 107 | lasa\n",
      "Processing Record 108 | matagami\n",
      "Processing Record 109 | manono\n",
      "Processing Record 110 | belushya guba\n",
      "Missing Field... Skipping\n",
      "Processing Record 111 | fortuna\n",
      "Processing Record 112 | port hedland\n",
      "Processing Record 113 | kingaroy\n",
      "Processing Record 114 | port lincoln\n",
      "Processing Record 115 | tessalit\n",
      "Processing Record 116 | gorontalo\n",
      "Processing Record 117 | tukan\n",
      "Processing Record 118 | bluff\n",
      "Processing Record 119 | dikson\n",
      "Processing Record 120 | mount gambier\n",
      "Processing Record 121 | homer\n",
      "Processing Record 122 | kimbe\n",
      "Processing Record 123 | souillac\n",
      "Processing Record 124 | znamenskoye\n",
      "Processing Record 125 | illoqqortoormiut\n",
      "Missing Field... Skipping\n",
      "Processing Record 126 | nizhneyansk\n",
      "Missing Field... Skipping\n",
      "Processing Record 127 | bethel\n",
      "Processing Record 128 | kalemie\n",
      "Processing Record 129 | ostrovnoy\n",
      "Processing Record 130 | bol\n",
      "Processing Record 131 | tirumullaivasal\n",
      "Processing Record 132 | inuvik\n",
      "Processing Record 133 | upernavik\n",
      "Processing Record 134 | georgetown\n",
      "Processing Record 135 | kalinovskoye\n",
      "Processing Record 136 | padang\n",
      "Processing Record 137 | ruston\n",
      "Processing Record 138 | saleaula\n",
      "Missing Field... Skipping\n",
      "Processing Record 139 | cidreira\n",
      "Processing Record 140 | khartoum\n",
      "Processing Record 141 | nauta\n",
      "Processing Record 142 | ixtapa\n",
      "Processing Record 143 | ayagoz\n",
      "Processing Record 144 | macaboboni\n",
      "Missing Field... Skipping\n",
      "Processing Record 145 | barentsburg\n",
      "Missing Field... Skipping\n",
      "Processing Record 146 | saint-joseph\n",
      "Processing Record 147 | ganzhou\n",
      "Processing Record 148 | mehamn\n",
      "Processing Record 149 | gubkin\n",
      "Processing Record 150 | faanui\n",
      "Processing Record 151 | ribeira grande\n",
      "Processing Record 152 | kaitangata\n",
      "Processing Record 153 | porangatu\n",
      "Processing Record 154 | dingli\n",
      "Processing Record 155 | cavalcante\n",
      "Processing Record 156 | general roca\n",
      "Processing Record 157 | safaga\n",
      "Processing Record 158 | kuryk\n",
      "Processing Record 159 | cayenne\n",
      "Processing Record 160 | shchelyayur\n",
      "Missing Field... Skipping\n",
      "Processing Record 161 | sao filipe\n",
      "Processing Record 162 | bengkulu\n",
      "Processing Record 163 | metehara\n",
      "Missing Field... Skipping\n",
      "Processing Record 164 | evanston\n",
      "Processing Record 165 | itambe\n",
      "Processing Record 166 | dunedin\n",
      "Processing Record 167 | nuuk\n",
      "Processing Record 168 | sangar\n",
      "Processing Record 169 | danville\n",
      "Processing Record 170 | nanded\n",
      "Missing Field... Skipping\n",
      "Processing Record 171 | saldanha\n",
      "Processing Record 172 | marsh harbour\n",
      "Processing Record 173 | kodiak\n",
      "Processing Record 174 | inhambane\n",
      "Processing Record 175 | mgandu\n",
      "Processing Record 176 | muscat\n",
      "Processing Record 177 | orlik\n",
      "Processing Record 178 | half moon bay\n",
      "Processing Record 179 | uhlirske janovice\n",
      "Processing Record 180 | laguna\n",
      "Processing Record 181 | kruisfontein\n",
      "Processing Record 182 | qui nhon\n",
      "Processing Record 183 | shar\n",
      "Processing Record 184 | escanaba\n",
      "Processing Record 185 | kahului\n",
      "Processing Record 186 | qasigiannguit\n",
      "Processing Record 187 | muros\n",
      "Processing Record 188 | touros\n",
      "Processing Record 189 | ola\n",
      "Processing Record 190 | oga\n",
      "Processing Record 191 | amderma\n",
      "Missing Field... Skipping\n",
      "Processing Record 192 | teya\n",
      "Processing Record 193 | song phi nong\n",
      "Processing Record 194 | kloulklubed\n",
      "Processing Record 195 | mantua\n",
      "Processing Record 196 | harper\n",
      "Processing Record 197 | vardo\n",
      "Processing Record 198 | tilichiki\n",
      "Processing Record 199 | farah\n",
      "Processing Record 200 | bolobo\n",
      "Processing Record 201 | port blair\n",
      "Processing Record 202 | omsukchan\n",
      "Processing Record 203 | leshukonskoye\n",
      "Processing Record 204 | vao\n",
      "Processing Record 205 | lebu\n",
      "Processing Record 206 | antofagasta\n",
      "Processing Record 207 | uige\n",
      "Processing Record 208 | pacific grove\n",
      "Processing Record 209 | itoman\n",
      "Processing Record 210 | buin\n",
      "Processing Record 211 | khatanga\n",
      "Processing Record 212 | port elizabeth\n",
      "Processing Record 213 | attawapiskat\n",
      "Missing Field... Skipping\n",
      "Processing Record 214 | berdigestyakh\n",
      "Processing Record 215 | iwaki\n",
      "Processing Record 216 | umba\n",
      "Processing Record 217 | santo domingo\n",
      "Processing Record 218 | corpus christi\n",
      "Processing Record 219 | severo-yeniseyskiy\n",
      "Processing Record 220 | devyatka\n",
      "Missing Field... Skipping\n",
      "Processing Record 221 | talara\n",
      "Processing Record 222 | bafq\n",
      "Processing Record 223 | labuhan\n",
      "Processing Record 224 | lolua\n",
      "Missing Field... Skipping\n",
      "Processing Record 225 | ivanovka\n",
      "Processing Record 226 | pokhara\n",
      "Processing Record 227 | bonavista\n",
      "Processing Record 228 | talnakh\n",
      "Processing Record 229 | presidente epitacio\n",
      "Processing Record 230 | litovko\n",
      "Processing Record 231 | zlitan\n"
     ]
    },
    {
     "name": "stdout",
     "output_type": "stream",
     "text": [
      "Processing Record 232 | paamiut\n",
      "Processing Record 233 | thinadhoo\n",
      "Processing Record 234 | yatou\n",
      "Processing Record 235 | iquique\n",
      "Processing Record 236 | yilan\n",
      "Processing Record 237 | onega\n",
      "Processing Record 238 | kourou\n",
      "Processing Record 239 | bukachacha\n",
      "Processing Record 240 | rungata\n",
      "Missing Field... Skipping\n",
      "Processing Record 241 | arraial do cabo\n",
      "Processing Record 242 | east london\n",
      "Processing Record 243 | kuhdasht\n",
      "Processing Record 244 | kikwit\n",
      "Processing Record 245 | yumen\n",
      "Processing Record 246 | hasaki\n",
      "Processing Record 247 | iqaluit\n",
      "Processing Record 248 | alaca\n",
      "Processing Record 249 | tautira\n",
      "Processing Record 250 | talcahuano\n",
      "Processing Record 251 | kushiro\n",
      "Processing Record 252 | husavik\n",
      "Processing Record 253 | southbury\n",
      "Processing Record 254 | amnat charoen\n",
      "Processing Record 255 | kangaatsiaq\n",
      "Processing Record 256 | karamay\n",
      "Missing Field... Skipping\n",
      "Processing Record 257 | kavaratti\n",
      "Processing Record 258 | zhelyabovka\n",
      "Processing Record 259 | sikasso\n",
      "Processing Record 260 | olmos\n",
      "Processing Record 261 | miandrivazo\n",
      "Processing Record 262 | brae\n",
      "Processing Record 263 | tazovskiy\n",
      "Processing Record 264 | simao\n",
      "Processing Record 265 | deputatskiy\n",
      "Processing Record 266 | rocha\n",
      "Processing Record 267 | kuah\n",
      "Processing Record 268 | beringovskiy\n",
      "Processing Record 269 | esperance\n",
      "Processing Record 270 | bambous virieux\n",
      "Processing Record 271 | thunder bay\n",
      "Processing Record 272 | yar-sale\n",
      "Processing Record 273 | ulaanbaatar\n",
      "Processing Record 274 | constitucion\n",
      "Processing Record 275 | pevek\n",
      "Processing Record 276 | quatre cocos\n",
      "Processing Record 277 | sao joao da barra\n",
      "Processing Record 278 | high prairie\n",
      "Processing Record 279 | kostomuksha\n",
      "Processing Record 280 | margate\n",
      "Processing Record 281 | algeciras\n",
      "Processing Record 282 | jieshi\n",
      "Processing Record 283 | rabo de peixe\n",
      "Processing Record 284 | samarai\n",
      "Processing Record 285 | angoche\n",
      "Processing Record 286 | ambulu\n",
      "Processing Record 287 | labuan\n",
      "Processing Record 288 | pocone\n",
      "Processing Record 289 | nishihara\n",
      "Processing Record 290 | novoagansk\n",
      "Processing Record 291 | ubatuba\n",
      "Processing Record 292 | buraydah\n",
      "Processing Record 293 | klaksvik\n",
      "Processing Record 294 | ulladulla\n",
      "Processing Record 295 | pundaguitan\n",
      "Processing Record 296 | taltal\n",
      "Processing Record 297 | russell\n",
      "Processing Record 298 | gat\n",
      "Processing Record 299 | auckland\n",
      "Processing Record 300 | saint george\n",
      "Processing Record 301 | fort saint james\n",
      "Processing Record 302 | cherskiy\n",
      "Processing Record 303 | benidorm\n",
      "Processing Record 304 | itarema\n",
      "Processing Record 305 | maceio\n",
      "Processing Record 306 | samusu\n",
      "Missing Field... Skipping\n",
      "Processing Record 307 | ancud\n",
      "Processing Record 308 | bam\n",
      "Processing Record 309 | bilma\n",
      "Processing Record 310 | samalaeulu\n",
      "Missing Field... Skipping\n",
      "Processing Record 311 | linqiong\n",
      "Processing Record 312 | kunigal\n",
      "Processing Record 313 | caxito\n",
      "Processing Record 314 | orativ\n",
      "Processing Record 315 | noumea\n",
      "Processing Record 316 | wiang sa\n",
      "Processing Record 317 | conakry\n",
      "Processing Record 318 | monduli\n",
      "Processing Record 319 | khani\n",
      "Processing Record 320 | maridi\n",
      "Processing Record 321 | olafsvik\n",
      "Processing Record 322 | saint-georges\n",
      "Processing Record 323 | sucua\n",
      "Processing Record 324 | batticaloa\n",
      "Processing Record 325 | clarence town\n",
      "Processing Record 326 | pafos\n",
      "Processing Record 327 | beaverlodge\n",
      "Processing Record 328 | arona\n",
      "Processing Record 329 | qaqortoq\n",
      "Processing Record 330 | torbay\n",
      "Processing Record 331 | herat\n",
      "Processing Record 332 | pisco\n",
      "Processing Record 333 | cabo san lucas\n",
      "Processing Record 334 | namatanai\n",
      "Processing Record 335 | nong phai\n",
      "Processing Record 336 | rawson\n",
      "Processing Record 337 | saint anthony\n",
      "Processing Record 338 | cartagena\n",
      "Processing Record 339 | turan\n",
      "Processing Record 340 | ambon\n",
      "Processing Record 341 | javanrud\n",
      "Processing Record 342 | sabha\n",
      "Processing Record 343 | aquiraz\n",
      "Processing Record 344 | skeldon\n",
      "Processing Record 345 | saskylakh\n",
      "Processing Record 346 | kibala\n",
      "Processing Record 347 | benito juarez\n",
      "Processing Record 348 | japura\n",
      "Processing Record 349 | cockburn town\n",
      "Processing Record 350 | krasnoselkup\n",
      "Processing Record 351 | gold coast\n",
      "Processing Record 352 | santa isabel do rio negro\n",
      "Processing Record 353 | beidao\n",
      "Processing Record 354 | sur\n",
      "Processing Record 355 | port-gentil\n",
      "Processing Record 356 | ceres\n",
      "Processing Record 357 | marzuq\n",
      "Processing Record 358 | lompoc\n",
      "Processing Record 359 | wabash\n",
      "Processing Record 360 | cortland\n",
      "Processing Record 361 | otane\n",
      "Processing Record 362 | nola\n",
      "Processing Record 363 | grand river south east\n",
      "Missing Field... Skipping\n",
      "Processing Record 364 | sorland\n",
      "Processing Record 365 | port hardy\n",
      "Processing Record 366 | marondera\n",
      "Processing Record 367 | urucara\n",
      "Processing Record 368 | ust-kamchatsk\n",
      "Missing Field... Skipping\n",
      "Processing Record 369 | urusha\n",
      "Processing Record 370 | rio gallegos\n",
      "Processing Record 371 | verkhnyaya inta\n",
      "Processing Record 372 | addi ugri\n",
      "Missing Field... Skipping\n",
      "Processing Record 373 | chumikan\n",
      "Processing Record 374 | exeter\n",
      "Processing Record 375 | krasnyy luch\n",
      "Processing Record 376 | alofi\n",
      "Processing Record 377 | elizabeth city\n",
      "Processing Record 378 | micheweni\n",
      "Processing Record 379 | severnyy\n",
      "Processing Record 380 | lanzhou\n",
      "Processing Record 381 | aykhal\n",
      "Processing Record 382 | adrasmon\n",
      "Processing Record 383 | goba\n",
      "Processing Record 384 | caravelas\n",
      "Processing Record 385 | kampene\n",
      "Processing Record 386 | armacao dos buzios\n",
      "Missing Field... Skipping\n",
      "Processing Record 387 | mitzic\n",
      "Processing Record 388 | semirom\n",
      "Processing Record 389 | tumannyy\n",
      "Missing Field... Skipping\n",
      "Processing Record 390 | kodinsk\n",
      "Processing Record 391 | puerto escondido\n",
      "Processing Record 392 | vanavara\n",
      "Processing Record 393 | karpathos\n",
      "Processing Record 394 | puerto baquerizo moreno\n",
      "Processing Record 395 | komsomolskiy\n",
      "Processing Record 396 | moree\n",
      "Processing Record 397 | tasiilaq\n",
      "Processing Record 398 | xai-xai\n",
      "Processing Record 399 | kalabo\n",
      "Processing Record 400 | la roda\n",
      "Processing Record 401 | awbari\n",
      "Processing Record 402 | shu\n",
      "Processing Record 403 | hamilton\n",
      "Processing Record 404 | baie-comeau\n",
      "Processing Record 405 | bara\n",
      "Processing Record 406 | nahuatzen\n",
      "Processing Record 407 | tura\n",
      "Processing Record 408 | bellevue\n",
      "Processing Record 409 | mahajanga\n",
      "Processing Record 410 | severo-kurilsk\n",
      "Processing Record 411 | pochutla\n",
      "Processing Record 412 | halmstad\n",
      "Processing Record 413 | haines junction\n",
      "Processing Record 414 | lahaina\n",
      "Processing Record 415 | tinqueux\n",
      "Processing Record 416 | wangkui\n",
      "Processing Record 417 | fairbanks\n",
      "Processing Record 418 | warqla\n",
      "Missing Field... Skipping\n",
      "Processing Record 419 | richards bay\n",
      "Processing Record 420 | doctor pedro p. pena\n",
      "Missing Field... Skipping\n",
      "Processing Record 421 | santa rita\n",
      "Processing Record 422 | lovozero\n",
      "Processing Record 423 | kamensk-uralskiy\n",
      "Processing Record 424 | zanjan\n",
      "Processing Record 425 | geraldton\n",
      "Processing Record 426 | ilulissat\n",
      "Processing Record 427 | sidi bu zayd\n",
      "Missing Field... Skipping\n",
      "Processing Record 428 | tingo maria\n",
      "Processing Record 429 | bairiki\n",
      "Processing Record 430 | solnechnyy\n",
      "Processing Record 431 | nyurba\n",
      "Processing Record 432 | luan\n",
      "Processing Record 433 | basco\n",
      "Processing Record 434 | san quintin\n",
      "Processing Record 435 | surin\n",
      "Processing Record 436 | kendari\n",
      "Processing Record 437 | mirabad\n",
      "Processing Record 438 | muriwai beach\n",
      "Processing Record 439 | mandan\n",
      "Processing Record 440 | sahrak\n",
      "Missing Field... Skipping\n",
      "Processing Record 441 | tangermunde\n",
      "Processing Record 442 | shillong\n",
      "Processing Record 443 | hualmay\n",
      "Processing Record 444 | cuamba\n",
      "Processing Record 445 | college\n",
      "Processing Record 446 | vidim\n",
      "Processing Record 447 | lasem\n",
      "Processing Record 448 | karangasem\n",
      "Processing Record 449 | ambatofinandrahana\n",
      "Processing Record 450 | mahalingpur\n",
      "Processing Record 451 | guerrero negro\n",
      "Processing Record 452 | manturovo\n",
      "Processing Record 453 | huazolotitlan\n",
      "Missing Field... Skipping\n",
      "Processing Record 454 | namibe\n",
      "Processing Record 455 | naze\n",
      "Processing Record 456 | cedar city\n",
      "Processing Record 457 | bargal\n",
      "Missing Field... Skipping\n",
      "Processing Record 458 | narsaq\n",
      "Processing Record 459 | sao felix do xingu\n",
      "Processing Record 460 | shimoda\n",
      "Processing Record 461 | jumla\n",
      "Processing Record 462 | wenling\n",
      "Processing Record 463 | klyuchi\n",
      "Processing Record 464 | warrnambool\n",
      "Processing Record 465 | limbang\n",
      "Processing Record 466 | elbistan\n"
     ]
    },
    {
     "name": "stdout",
     "output_type": "stream",
     "text": [
      "Processing Record 467 | palana\n",
      "Processing Record 468 | tabulbah\n",
      "Missing Field... Skipping\n",
      "Processing Record 469 | lorengau\n",
      "Processing Record 470 | augusto correa\n",
      "Processing Record 471 | mahanje\n",
      "Processing Record 472 | granja\n",
      "Processing Record 473 | sobolevo\n",
      "Processing Record 474 | muisne\n",
      "Processing Record 475 | matameye\n",
      "Missing Field... Skipping\n",
      "Processing Record 476 | geresk\n",
      "Missing Field... Skipping\n",
      "Processing Record 477 | copiapo\n",
      "Processing Record 478 | mujiayingzi\n",
      "Processing Record 479 | marihatag\n",
      "Processing Record 480 | khuzdar\n",
      "Processing Record 481 | polovinnoye\n",
      "Processing Record 482 | inongo\n",
      "Processing Record 483 | general salgado\n",
      "Processing Record 484 | esik\n",
      "Processing Record 485 | bull savanna\n",
      "Processing Record 486 | araouane\n",
      "Processing Record 487 | kem\n",
      "Processing Record 488 | porto-vecchio\n",
      "Processing Record 489 | vokhtoga\n",
      "Processing Record 490 | vanimo\n",
      "Processing Record 491 | lagoa\n",
      "Processing Record 492 | riyadh\n",
      "Processing Record 493 | konya\n",
      "Processing Record 494 | boke\n",
      "Processing Record 495 | hami\n",
      "Processing Record 496 | scarborough\n",
      "Processing Record 497 | tsabong\n",
      "Processing Record 498 | loukhi\n",
      "Processing Record 499 | mukhen\n",
      "Processing Record 500 | kasempa\n",
      "Processing Record 501 | limon\n",
      "Processing Record 502 | penzance\n",
      "Processing Record 503 | bogomila\n",
      "Processing Record 504 | koumac\n",
      "Processing Record 505 | bud\n",
      "Processing Record 506 | pasighat\n",
      "Processing Record 507 | sibiti\n",
      "Processing Record 508 | marawi\n",
      "Processing Record 509 | praia\n",
      "Processing Record 510 | bandarbeyla\n",
      "Processing Record 511 | codrington\n",
      "Processing Record 512 | mayo\n",
      "Processing Record 513 | kovur\n",
      "Processing Record 514 | arlit\n",
      "Processing Record 515 | astara\n",
      "Processing Record 516 | kamenskoye\n",
      "Missing Field... Skipping\n",
      "Processing Record 517 | appleton\n",
      "Processing Record 518 | ketchikan\n",
      "Processing Record 519 | katsuura\n",
      "Processing Record 520 | east wenatchee bench\n",
      "Processing Record 521 | nome\n",
      "Processing Record 522 | umm bab\n",
      "Processing Record 523 | nogent-le-rotrou\n",
      "Processing Record 524 | sao gabriel da cachoeira\n",
      "Processing Record 525 | marystown\n",
      "Processing Record 526 | trudarmeyskiy\n",
      "Processing Record 527 | nichinan\n",
      "Processing Record 528 | kadyy\n",
      "Processing Record 529 | newport\n",
      "Processing Record 530 | mokhsogollokh\n",
      "Processing Record 531 | karratha\n",
      "Processing Record 532 | mattru\n",
      "Processing Record 533 | lisiy nos\n",
      "Processing Record 534 | cobija\n",
      "Processing Record 535 | magway\n",
      "Processing Record 536 | wonthaggi\n",
      "Processing Record 537 | lakatoro\n",
      "Processing Record 538 | campos belos\n",
      "Processing Record 539 | tiznit\n",
      "Processing Record 540 | ouallam\n",
      "Processing Record 541 | jaguaruana\n",
      "Processing Record 542 | kurush\n",
      "Processing Record 543 | broken hill\n",
      "Processing Record 544 | bilibino\n",
      "Processing Record 545 | itupiranga\n",
      "Processing Record 546 | chunoyar\n",
      "Processing Record 547 | meulaboh\n",
      "Processing Record 548 | mwinilunga\n",
      "Processing Record 549 | abu dhabi\n",
      "Processing Record 550 | kafue\n",
      "Processing Record 551 | prince george\n",
      "Processing Record 552 | alta floresta\n",
      "Processing Record 553 | payson\n",
      "Processing Record 554 | izhma\n",
      "Processing Record 555 | el badari\n",
      "Missing Field... Skipping\n",
      "Processing Record 556 | novyy urengoy\n",
      "Processing Record 557 | aklavik\n",
      "Processing Record 558 | muravlenko\n",
      "Processing Record 559 | mawlaik\n",
      "Processing Record 560 | broome\n",
      "Processing Record 561 | bemidji\n",
      "Processing Record 562 | seinajoki\n",
      "Processing Record 563 | porto novo\n",
      "Processing Record 564 | kargopol\n",
      "Processing Record 565 | amanganj\n",
      "Processing Record 566 | havelock\n",
      "Processing Record 567 | sorvag\n",
      "Missing Field... Skipping\n",
      "Processing Record 568 | smolenka\n",
      "Processing Record 569 | eureka\n",
      "Processing Record 570 | luderitz\n",
      "Processing Record 571 | deogarh\n",
      "Processing Record 572 | ugra\n"
     ]
    }
   ],
   "source": [
    "params = {\n",
    "    \"appid\": weather_api_key,\n",
    "    \"units\": \"imperial\"\n",
    "}\n",
    "weatherUrl = \"http://api.openweathermap.org/data/2.5/weather?\"\n",
    "for index,row in weather_df.iterrows():\n",
    "    city = row[\"City\"]\n",
    "    params[\"q\"] = city\n",
    "    print(f\"Processing Record {index} | {city}\")\n",
    "    loopResponse = requests.get(weatherUrl, params=params).json()\n",
    "    \n",
    "    try:\n",
    "        weather_df.loc[index, \"Latitude\"] = loopResponse['coord']['lat']\n",
    "        weather_df.loc[index, \"Longitude\"] = loopResponse['coord']['lon']\n",
    "        weather_df.loc[index, \"Temperature\"] = loopResponse['main']['temp']\n",
    "        weather_df.loc[index, \"Humidity\"] = loopResponse['main']['humidity']\n",
    "        weather_df.loc[index, \"Cloudiness\"] = loopResponse['clouds']['all']\n",
    "        weather_df.loc[index, \"Wind Speed\"] = loopResponse['wind']['speed']\n",
    "        weather_df.loc[index, \"Country\"] = loopResponse['sys']['country']\n",
    "        weather_df.loc[index, \"Date\"] = loopResponse['dt']\n",
    "        \n",
    "    except KeyError:\n",
    "        print(\"Missing Field... Skipping\")"
   ]
  },
  {
   "cell_type": "code",
   "execution_count": 6,
   "metadata": {},
   "outputs": [
    {
     "data": {
      "text/html": [
       "<div>\n",
       "<style scoped>\n",
       "    .dataframe tbody tr th:only-of-type {\n",
       "        vertical-align: middle;\n",
       "    }\n",
       "\n",
       "    .dataframe tbody tr th {\n",
       "        vertical-align: top;\n",
       "    }\n",
       "\n",
       "    .dataframe thead th {\n",
       "        text-align: right;\n",
       "    }\n",
       "</style>\n",
       "<table border=\"1\" class=\"dataframe\">\n",
       "  <thead>\n",
       "    <tr style=\"text-align: right;\">\n",
       "      <th></th>\n",
       "      <th>City</th>\n",
       "      <th>Latitude</th>\n",
       "      <th>Longitude</th>\n",
       "      <th>Temperature</th>\n",
       "      <th>Humidity</th>\n",
       "      <th>Cloudiness</th>\n",
       "      <th>Wind Speed</th>\n",
       "      <th>Country</th>\n",
       "      <th>Date</th>\n",
       "    </tr>\n",
       "  </thead>\n",
       "  <tbody>\n",
       "    <tr>\n",
       "      <th>0</th>\n",
       "      <td>sola</td>\n",
       "      <td>-13.88</td>\n",
       "      <td>167.55</td>\n",
       "      <td>81.50</td>\n",
       "      <td>80.0</td>\n",
       "      <td>60.0</td>\n",
       "      <td>19.60</td>\n",
       "      <td>VU</td>\n",
       "      <td>1.604180e+09</td>\n",
       "    </tr>\n",
       "    <tr>\n",
       "      <th>1</th>\n",
       "      <td>pangnirtung</td>\n",
       "      <td>66.15</td>\n",
       "      <td>-65.71</td>\n",
       "      <td>13.03</td>\n",
       "      <td>79.0</td>\n",
       "      <td>100.0</td>\n",
       "      <td>5.17</td>\n",
       "      <td>CA</td>\n",
       "      <td>1.604180e+09</td>\n",
       "    </tr>\n",
       "    <tr>\n",
       "      <th>2</th>\n",
       "      <td>butaritari</td>\n",
       "      <td>3.07</td>\n",
       "      <td>172.79</td>\n",
       "      <td>81.39</td>\n",
       "      <td>75.0</td>\n",
       "      <td>100.0</td>\n",
       "      <td>15.57</td>\n",
       "      <td>KI</td>\n",
       "      <td>1.604180e+09</td>\n",
       "    </tr>\n",
       "    <tr>\n",
       "      <th>3</th>\n",
       "      <td>mahebourg</td>\n",
       "      <td>-20.41</td>\n",
       "      <td>57.70</td>\n",
       "      <td>66.20</td>\n",
       "      <td>82.0</td>\n",
       "      <td>75.0</td>\n",
       "      <td>8.05</td>\n",
       "      <td>MU</td>\n",
       "      <td>1.604180e+09</td>\n",
       "    </tr>\n",
       "    <tr>\n",
       "      <th>4</th>\n",
       "      <td>atuona</td>\n",
       "      <td>-9.80</td>\n",
       "      <td>-139.03</td>\n",
       "      <td>78.53</td>\n",
       "      <td>75.0</td>\n",
       "      <td>12.0</td>\n",
       "      <td>17.18</td>\n",
       "      <td>PF</td>\n",
       "      <td>1.604180e+09</td>\n",
       "    </tr>\n",
       "    <tr>\n",
       "      <th>...</th>\n",
       "      <td>...</td>\n",
       "      <td>...</td>\n",
       "      <td>...</td>\n",
       "      <td>...</td>\n",
       "      <td>...</td>\n",
       "      <td>...</td>\n",
       "      <td>...</td>\n",
       "      <td>...</td>\n",
       "      <td>...</td>\n",
       "    </tr>\n",
       "    <tr>\n",
       "      <th>568</th>\n",
       "      <td>smolenka</td>\n",
       "      <td>52.14</td>\n",
       "      <td>113.50</td>\n",
       "      <td>21.20</td>\n",
       "      <td>73.0</td>\n",
       "      <td>40.0</td>\n",
       "      <td>6.71</td>\n",
       "      <td>RU</td>\n",
       "      <td>1.604180e+09</td>\n",
       "    </tr>\n",
       "    <tr>\n",
       "      <th>569</th>\n",
       "      <td>eureka</td>\n",
       "      <td>40.80</td>\n",
       "      <td>-124.16</td>\n",
       "      <td>58.89</td>\n",
       "      <td>87.0</td>\n",
       "      <td>20.0</td>\n",
       "      <td>4.70</td>\n",
       "      <td>US</td>\n",
       "      <td>1.604180e+09</td>\n",
       "    </tr>\n",
       "    <tr>\n",
       "      <th>570</th>\n",
       "      <td>luderitz</td>\n",
       "      <td>-26.65</td>\n",
       "      <td>15.16</td>\n",
       "      <td>65.53</td>\n",
       "      <td>44.0</td>\n",
       "      <td>21.0</td>\n",
       "      <td>21.39</td>\n",
       "      <td>NA</td>\n",
       "      <td>1.604180e+09</td>\n",
       "    </tr>\n",
       "    <tr>\n",
       "      <th>571</th>\n",
       "      <td>deogarh</td>\n",
       "      <td>21.53</td>\n",
       "      <td>84.73</td>\n",
       "      <td>70.41</td>\n",
       "      <td>76.0</td>\n",
       "      <td>2.0</td>\n",
       "      <td>3.15</td>\n",
       "      <td>IN</td>\n",
       "      <td>1.604180e+09</td>\n",
       "    </tr>\n",
       "    <tr>\n",
       "      <th>572</th>\n",
       "      <td>ugra</td>\n",
       "      <td>54.78</td>\n",
       "      <td>34.33</td>\n",
       "      <td>41.14</td>\n",
       "      <td>90.0</td>\n",
       "      <td>56.0</td>\n",
       "      <td>8.97</td>\n",
       "      <td>RU</td>\n",
       "      <td>1.604180e+09</td>\n",
       "    </tr>\n",
       "  </tbody>\n",
       "</table>\n",
       "<p>573 rows × 9 columns</p>\n",
       "</div>"
      ],
      "text/plain": [
       "            City  Latitude  Longitude  Temperature  Humidity  Cloudiness  \\\n",
       "0           sola    -13.88     167.55        81.50      80.0        60.0   \n",
       "1    pangnirtung     66.15     -65.71        13.03      79.0       100.0   \n",
       "2     butaritari      3.07     172.79        81.39      75.0       100.0   \n",
       "3      mahebourg    -20.41      57.70        66.20      82.0        75.0   \n",
       "4         atuona     -9.80    -139.03        78.53      75.0        12.0   \n",
       "..           ...       ...        ...          ...       ...         ...   \n",
       "568     smolenka     52.14     113.50        21.20      73.0        40.0   \n",
       "569       eureka     40.80    -124.16        58.89      87.0        20.0   \n",
       "570     luderitz    -26.65      15.16        65.53      44.0        21.0   \n",
       "571      deogarh     21.53      84.73        70.41      76.0         2.0   \n",
       "572         ugra     54.78      34.33        41.14      90.0        56.0   \n",
       "\n",
       "     Wind Speed Country          Date  \n",
       "0         19.60      VU  1.604180e+09  \n",
       "1          5.17      CA  1.604180e+09  \n",
       "2         15.57      KI  1.604180e+09  \n",
       "3          8.05      MU  1.604180e+09  \n",
       "4         17.18      PF  1.604180e+09  \n",
       "..          ...     ...           ...  \n",
       "568        6.71      RU  1.604180e+09  \n",
       "569        4.70      US  1.604180e+09  \n",
       "570       21.39      NA  1.604180e+09  \n",
       "571        3.15      IN  1.604180e+09  \n",
       "572        8.97      RU  1.604180e+09  \n",
       "\n",
       "[573 rows x 9 columns]"
      ]
     },
     "execution_count": 6,
     "metadata": {},
     "output_type": "execute_result"
    }
   ],
   "source": [
    "weather_df"
   ]
  },
  {
   "cell_type": "code",
   "execution_count": 7,
   "metadata": {},
   "outputs": [
    {
     "data": {
      "text/html": [
       "<div>\n",
       "<style scoped>\n",
       "    .dataframe tbody tr th:only-of-type {\n",
       "        vertical-align: middle;\n",
       "    }\n",
       "\n",
       "    .dataframe tbody tr th {\n",
       "        vertical-align: top;\n",
       "    }\n",
       "\n",
       "    .dataframe thead th {\n",
       "        text-align: right;\n",
       "    }\n",
       "</style>\n",
       "<table border=\"1\" class=\"dataframe\">\n",
       "  <thead>\n",
       "    <tr style=\"text-align: right;\">\n",
       "      <th></th>\n",
       "      <th>City</th>\n",
       "      <th>Latitude</th>\n",
       "      <th>Longitude</th>\n",
       "      <th>Temperature</th>\n",
       "      <th>Humidity</th>\n",
       "      <th>Cloudiness</th>\n",
       "      <th>Wind Speed</th>\n",
       "      <th>Country</th>\n",
       "      <th>Date</th>\n",
       "    </tr>\n",
       "  </thead>\n",
       "  <tbody>\n",
       "    <tr>\n",
       "      <th>0</th>\n",
       "      <td>sola</td>\n",
       "      <td>-13.88</td>\n",
       "      <td>167.55</td>\n",
       "      <td>81.50</td>\n",
       "      <td>80.0</td>\n",
       "      <td>60.0</td>\n",
       "      <td>19.60</td>\n",
       "      <td>VU</td>\n",
       "      <td>1.604180e+09</td>\n",
       "    </tr>\n",
       "    <tr>\n",
       "      <th>1</th>\n",
       "      <td>pangnirtung</td>\n",
       "      <td>66.15</td>\n",
       "      <td>-65.71</td>\n",
       "      <td>13.03</td>\n",
       "      <td>79.0</td>\n",
       "      <td>100.0</td>\n",
       "      <td>5.17</td>\n",
       "      <td>CA</td>\n",
       "      <td>1.604180e+09</td>\n",
       "    </tr>\n",
       "    <tr>\n",
       "      <th>2</th>\n",
       "      <td>butaritari</td>\n",
       "      <td>3.07</td>\n",
       "      <td>172.79</td>\n",
       "      <td>81.39</td>\n",
       "      <td>75.0</td>\n",
       "      <td>100.0</td>\n",
       "      <td>15.57</td>\n",
       "      <td>KI</td>\n",
       "      <td>1.604180e+09</td>\n",
       "    </tr>\n",
       "    <tr>\n",
       "      <th>3</th>\n",
       "      <td>mahebourg</td>\n",
       "      <td>-20.41</td>\n",
       "      <td>57.70</td>\n",
       "      <td>66.20</td>\n",
       "      <td>82.0</td>\n",
       "      <td>75.0</td>\n",
       "      <td>8.05</td>\n",
       "      <td>MU</td>\n",
       "      <td>1.604180e+09</td>\n",
       "    </tr>\n",
       "    <tr>\n",
       "      <th>4</th>\n",
       "      <td>atuona</td>\n",
       "      <td>-9.80</td>\n",
       "      <td>-139.03</td>\n",
       "      <td>78.53</td>\n",
       "      <td>75.0</td>\n",
       "      <td>12.0</td>\n",
       "      <td>17.18</td>\n",
       "      <td>PF</td>\n",
       "      <td>1.604180e+09</td>\n",
       "    </tr>\n",
       "    <tr>\n",
       "      <th>...</th>\n",
       "      <td>...</td>\n",
       "      <td>...</td>\n",
       "      <td>...</td>\n",
       "      <td>...</td>\n",
       "      <td>...</td>\n",
       "      <td>...</td>\n",
       "      <td>...</td>\n",
       "      <td>...</td>\n",
       "      <td>...</td>\n",
       "    </tr>\n",
       "    <tr>\n",
       "      <th>568</th>\n",
       "      <td>smolenka</td>\n",
       "      <td>52.14</td>\n",
       "      <td>113.50</td>\n",
       "      <td>21.20</td>\n",
       "      <td>73.0</td>\n",
       "      <td>40.0</td>\n",
       "      <td>6.71</td>\n",
       "      <td>RU</td>\n",
       "      <td>1.604180e+09</td>\n",
       "    </tr>\n",
       "    <tr>\n",
       "      <th>569</th>\n",
       "      <td>eureka</td>\n",
       "      <td>40.80</td>\n",
       "      <td>-124.16</td>\n",
       "      <td>58.89</td>\n",
       "      <td>87.0</td>\n",
       "      <td>20.0</td>\n",
       "      <td>4.70</td>\n",
       "      <td>US</td>\n",
       "      <td>1.604180e+09</td>\n",
       "    </tr>\n",
       "    <tr>\n",
       "      <th>570</th>\n",
       "      <td>luderitz</td>\n",
       "      <td>-26.65</td>\n",
       "      <td>15.16</td>\n",
       "      <td>65.53</td>\n",
       "      <td>44.0</td>\n",
       "      <td>21.0</td>\n",
       "      <td>21.39</td>\n",
       "      <td>NA</td>\n",
       "      <td>1.604180e+09</td>\n",
       "    </tr>\n",
       "    <tr>\n",
       "      <th>571</th>\n",
       "      <td>deogarh</td>\n",
       "      <td>21.53</td>\n",
       "      <td>84.73</td>\n",
       "      <td>70.41</td>\n",
       "      <td>76.0</td>\n",
       "      <td>2.0</td>\n",
       "      <td>3.15</td>\n",
       "      <td>IN</td>\n",
       "      <td>1.604180e+09</td>\n",
       "    </tr>\n",
       "    <tr>\n",
       "      <th>572</th>\n",
       "      <td>ugra</td>\n",
       "      <td>54.78</td>\n",
       "      <td>34.33</td>\n",
       "      <td>41.14</td>\n",
       "      <td>90.0</td>\n",
       "      <td>56.0</td>\n",
       "      <td>8.97</td>\n",
       "      <td>RU</td>\n",
       "      <td>1.604180e+09</td>\n",
       "    </tr>\n",
       "  </tbody>\n",
       "</table>\n",
       "<p>529 rows × 9 columns</p>\n",
       "</div>"
      ],
      "text/plain": [
       "            City  Latitude  Longitude  Temperature  Humidity  Cloudiness  \\\n",
       "0           sola    -13.88     167.55        81.50      80.0        60.0   \n",
       "1    pangnirtung     66.15     -65.71        13.03      79.0       100.0   \n",
       "2     butaritari      3.07     172.79        81.39      75.0       100.0   \n",
       "3      mahebourg    -20.41      57.70        66.20      82.0        75.0   \n",
       "4         atuona     -9.80    -139.03        78.53      75.0        12.0   \n",
       "..           ...       ...        ...          ...       ...         ...   \n",
       "568     smolenka     52.14     113.50        21.20      73.0        40.0   \n",
       "569       eureka     40.80    -124.16        58.89      87.0        20.0   \n",
       "570     luderitz    -26.65      15.16        65.53      44.0        21.0   \n",
       "571      deogarh     21.53      84.73        70.41      76.0         2.0   \n",
       "572         ugra     54.78      34.33        41.14      90.0        56.0   \n",
       "\n",
       "     Wind Speed Country          Date  \n",
       "0         19.60      VU  1.604180e+09  \n",
       "1          5.17      CA  1.604180e+09  \n",
       "2         15.57      KI  1.604180e+09  \n",
       "3          8.05      MU  1.604180e+09  \n",
       "4         17.18      PF  1.604180e+09  \n",
       "..          ...     ...           ...  \n",
       "568        6.71      RU  1.604180e+09  \n",
       "569        4.70      US  1.604180e+09  \n",
       "570       21.39      NA  1.604180e+09  \n",
       "571        3.15      IN  1.604180e+09  \n",
       "572        8.97      RU  1.604180e+09  \n",
       "\n",
       "[529 rows x 9 columns]"
      ]
     },
     "execution_count": 7,
     "metadata": {},
     "output_type": "execute_result"
    }
   ],
   "source": [
    "clean_city_data_df = weather_df.loc[weather_df[\"Humidity\"] <= 100,:]\n",
    "clean_city_data_df = clean_city_data_df.dropna(how='any')\n",
    "clean_city_data_df"
   ]
  },
  {
   "cell_type": "markdown",
   "metadata": {},
   "source": [
    "### Perform API Calls\n",
    "* Perform a weather check on each city using a series of successive API calls.\n",
    "* Include a print log of each city as it'sbeing processed (with the city number and city name).\n"
   ]
  },
  {
   "cell_type": "markdown",
   "metadata": {},
   "source": [
    "### Convert Raw Data to DataFrame\n",
    "* Export the city data into a .csv.\n",
    "* Display the DataFrame"
   ]
  },
  {
   "cell_type": "markdown",
   "metadata": {},
   "source": [
    "## Inspect the data and remove the cities where the humidity > 100%.\n",
    "----\n",
    "Skip this step if there are no cities that have humidity > 100%. "
   ]
  },
  {
   "cell_type": "code",
   "execution_count": 8,
   "metadata": {},
   "outputs": [],
   "source": [
    "#  Get the indices of cities that have humidity over 100%.\n"
   ]
  },
  {
   "cell_type": "code",
   "execution_count": 9,
   "metadata": {},
   "outputs": [],
   "source": [
    "# Make a new DataFrame equal to the city data to drop all humidity outliers by index.\n",
    "# Passing \"inplace=False\" will make a copy of the city_data DataFrame, which we call \"clean_city_data\".\n"
   ]
  },
  {
   "cell_type": "markdown",
   "metadata": {},
   "source": [
    "## Plotting the Data\n",
    "* Use proper labeling of the plots using plot titles (including date of analysis) and axes labels.\n",
    "* Save the plotted figures as .pngs."
   ]
  },
  {
   "cell_type": "markdown",
   "metadata": {},
   "source": [
    "## Latitude vs. Temperature Plot"
   ]
  },
  {
   "cell_type": "code",
   "execution_count": 10,
   "metadata": {},
   "outputs": [
    {
     "data": {
      "image/png": "[encoded data removed]",
      "text/plain": [
       "<Figure size 432x288 with 1 Axes>"
      ]
     },
     "metadata": {
      "needs_background": "light"
     },
     "output_type": "display_data"
    }
   ],
   "source": [
    "plt.scatter(clean_city_data_df[\"Latitude\"], clean_city_data_df[\"Temperature\"], marker=\"o\", facecolors=\"red\", edgecolors=\"black\")\n",
    "plt.title(\"Latitude v Temperature\")\n",
    "plt.xlabel(\"Latitude\")\n",
    "plt.ylabel(\"Temperature (F)\")\n",
    "plt.grid(True)\n",
    "\n",
    "plt.savefig(\"../output_data/Fig1.png\")"
   ]
  },
  {
   "cell_type": "markdown",
   "metadata": {},
   "source": [
    "## Latitude vs. Humidity Plot"
   ]
  },
  {
   "cell_type": "code",
   "execution_count": 11,
   "metadata": {},
   "outputs": [
    {
     "data": {
      "image/png": "[encoded data removed]",
      "text/plain": [
       "<Figure size 432x288 with 1 Axes>"
      ]
     },
     "metadata": {
      "needs_background": "light"
     },
     "output_type": "display_data"
    }
   ],
   "source": [
    "plt.scatter(clean_city_data_df[\"Latitude\"], clean_city_data_df[\"Humidity\"], marker=\"o\", facecolors=\"red\", edgecolors=\"black\")\n",
    "plt.title(\"Latitude v Humidity\")\n",
    "plt.xlabel(\"Latitude\")\n",
    "plt.ylabel(\"Humidity (%)\")\n",
    "plt.grid(True)\n",
    "\n",
    "plt.savefig(\"../output_data/Fig2.png\")"
   ]
  },
  {
   "cell_type": "markdown",
   "metadata": {},
   "source": [
    "## Latitude vs. Cloudiness Plot"
   ]
  },
  {
   "cell_type": "code",
   "execution_count": 12,
   "metadata": {},
   "outputs": [
    {
     "data": {
      "image/png": "[encoded data removed]",
      "text/plain": [
       "<Figure size 432x288 with 1 Axes>"
      ]
     },
     "metadata": {
      "needs_background": "light"
     },
     "output_type": "display_data"
    }
   ],
   "source": [
    "plt.scatter(clean_city_data_df[\"Latitude\"], clean_city_data_df[\"Cloudiness\"], marker=\"o\", facecolors=\"red\", edgecolors=\"black\")\n",
    "plt.title(\"Latitude v Cloudiness\")\n",
    "plt.xlabel(\"Latitude\")\n",
    "plt.ylabel(\"Cloudiness (%)\")\n",
    "plt.grid(True)\n",
    "\n",
    "plt.savefig(\"../output_data/Fig3.png\")"
   ]
  },
  {
   "cell_type": "markdown",
   "metadata": {},
   "source": [
    "## Latitude vs. Wind Speed Plot"
   ]
  },
  {
   "cell_type": "code",
   "execution_count": 13,
   "metadata": {},
   "outputs": [
    {
     "data": {
      "image/png": "[encoded data removed]",
      "text/plain": [
       "<Figure size 432x288 with 1 Axes>"
      ]
     },
     "metadata": {
      "needs_background": "light"
     },
     "output_type": "display_data"
    }
   ],
   "source": [
    "plt.scatter(clean_city_data_df[\"Latitude\"], clean_city_data_df[\"Wind Speed\"], marker=\"o\", facecolors=\"red\", edgecolors=\"black\")\n",
    "plt.title(\"Latitude v Wind Speed\")\n",
    "plt.xlabel(\"Latitude\")\n",
    "plt.ylabel(\"Wind Speed (MPH)\")\n",
    "plt.grid(True)\n",
    "\n",
    "plt.savefig(\"../output_data/Fig4.png\")"
   ]
  },
  {
   "cell_type": "markdown",
   "metadata": {},
   "source": [
    "## Linear Regression"
   ]
  },
  {
   "cell_type": "code",
   "execution_count": 14,
   "metadata": {},
   "outputs": [],
   "source": [
    "NHcity_data_df = clean_city_data_df.loc[clean_city_data_df[\"Latitude\"] >= 0,:]\n",
    "SHcity_data_df = clean_city_data_df.loc[clean_city_data_df[\"Latitude\"] <= 0,:]"
   ]
  },
  {
   "cell_type": "markdown",
   "metadata": {},
   "source": [
    "####  Northern Hemisphere - Max Temp vs. Latitude Linear Regression"
   ]
  },
  {
   "cell_type": "code",
   "execution_count": 15,
   "metadata": {},
   "outputs": [
    {
     "name": "stdout",
     "output_type": "stream",
     "text": [
      "The r-squared is: 0.7547482024177664\n"
     ]
    },
    {
     "data": {
      "image/png": "[encoded data removed]",
      "text/plain": [
       "<Figure size 432x288 with 1 Axes>"
      ]
     },
     "metadata": {
      "needs_background": "light"
     },
     "output_type": "display_data"
    }
   ],
   "source": [
    "plt.scatter(NHcity_data_df[\"Latitude\"], NHcity_data_df[\"Temperature\"], marker=\"o\", facecolors=\"red\", edgecolors=\"black\")\n",
    "plt.title(\"Latitude v Temperature (Northern)\")\n",
    "plt.xlabel(\"Latitude\")\n",
    "plt.ylabel(\"Temperature (F)\")\n",
    "plt.grid(True)\n",
    "\n",
    "(slope, intercept, rvalue, pvalue, stderr)= stats.linregress(NHcity_data_df[\"Latitude\"], NHcity_data_df[\"Temperature\"])\n",
    "reg_eq = slope * NHcity_data_df[\"Latitude\"] + intercept\n",
    "line_eq = \"y = \" + str(round(slope,2)) + \"x + \" + str(round(intercept,2))\n",
    "plt.plot(NHcity_data_df[\"Latitude\"],reg_eq,\"--\")\n",
    "plt.annotate(line_eq,(6,10),fontsize=15,color=\"red\")\n",
    "print(f\"The r-squared is: {rvalue**2}\")\n",
    "\n",
    "plt.savefig(\"../output_data/Fig5.png\")"
   ]
  },
  {
   "cell_type": "markdown",
   "metadata": {},
   "source": [
    "####  Southern Hemisphere - Max Temp vs. Latitude Linear Regression"
   ]
  },
  {
   "cell_type": "code",
   "execution_count": 16,
   "metadata": {},
   "outputs": [
    {
     "name": "stdout",
     "output_type": "stream",
     "text": [
      "The r-squared is: 0.46869331788665347\n"
     ]
    },
    {
     "data": {
      "image/png": "[encoded data removed]",
      "text/plain": [
       "<Figure size 432x288 with 1 Axes>"
      ]
     },
     "metadata": {
      "needs_background": "light"
     },
     "output_type": "display_data"
    }
   ],
   "source": [
    "plt.scatter(SHcity_data_df[\"Latitude\"], SHcity_data_df[\"Temperature\"], marker=\"o\", facecolors=\"red\", edgecolors=\"black\")\n",
    "plt.title(\"Latitude v Temperature (Southern)\")\n",
    "plt.xlabel(\"Latitude\")\n",
    "plt.ylabel(\"Temperature (F)\")\n",
    "plt.grid(True)\n",
    "\n",
    "(slope, intercept, rvalue, pvalue, stderr)= stats.linregress(SHcity_data_df[\"Latitude\"], SHcity_data_df[\"Temperature\"])\n",
    "reg_eq = slope * SHcity_data_df[\"Latitude\"] + intercept\n",
    "line_eq = \"y = \" + str(round(slope,2)) + \"x + \" + str(round(intercept,2))\n",
    "plt.plot(SHcity_data_df[\"Latitude\"],reg_eq,\"--\")\n",
    "plt.annotate(line_eq,(-50,90),fontsize=15,color=\"red\")\n",
    "print(f\"The r-squared is: {rvalue**2}\")\n",
    "\n",
    "plt.savefig(\"../output_data/Fig6.png\")"
   ]
  },
  {
   "cell_type": "markdown",
   "metadata": {},
   "source": [
    "####  Northern Hemisphere - Humidity (%) vs. Latitude Linear Regression"
   ]
  },
  {
   "cell_type": "code",
   "execution_count": 17,
   "metadata": {},
   "outputs": [
    {
     "name": "stdout",
     "output_type": "stream",
     "text": [
      "The r-squared is: 0.09798226563359146\n"
     ]
    },
    {
     "data": {
      "image/png": "[encoded data removed]",
      "text/plain": [
       "<Figure size 432x288 with 1 Axes>"
      ]
     },
     "metadata": {
      "needs_background": "light"
     },
     "output_type": "display_data"
    }
   ],
   "source": [
    "plt.scatter(NHcity_data_df[\"Latitude\"], NHcity_data_df[\"Humidity\"], marker=\"o\", facecolors=\"red\", edgecolors=\"black\")\n",
    "plt.title(\"Latitude v Humidity (Northern)\")\n",
    "plt.xlabel(\"Latitude\")\n",
    "plt.ylabel(\"Humidity (%)\")\n",
    "plt.grid(True)\n",
    "\n",
    "(slope, intercept, rvalue, pvalue, stderr)= stats.linregress(NHcity_data_df[\"Latitude\"], NHcity_data_df[\"Humidity\"])\n",
    "reg_eq = slope * NHcity_data_df[\"Latitude\"] + intercept\n",
    "line_eq = \"y = \" + str(round(slope,2)) + \"x + \" + str(round(intercept,2))\n",
    "plt.plot(NHcity_data_df[\"Latitude\"],reg_eq,\"--\")\n",
    "plt.annotate(line_eq,(50,50),fontsize=15,color=\"red\")\n",
    "print(f\"The r-squared is: {rvalue**2}\")\n",
    "\n",
    "plt.savefig(\"../output_data/Fig7.png\")"
   ]
  },
  {
   "cell_type": "markdown",
   "metadata": {},
   "source": [
    "Southern Hemisphere - Humidity (%) vs. Latitude Linear Regression"
   ]
  },
  {
   "cell_type": "code",
   "execution_count": 18,
   "metadata": {},
   "outputs": [
    {
     "name": "stdout",
     "output_type": "stream",
     "text": [
      "The r-squared is: 0.05705956273479099\n"
     ]
    },
    {
     "data": {
      "image/png": "[encoded data removed]",
      "text/plain": [
       "<Figure size 432x288 with 1 Axes>"
      ]
     },
     "metadata": {
      "needs_background": "light"
     },
     "output_type": "display_data"
    }
   ],
   "source": [
    "plt.scatter(SHcity_data_df[\"Latitude\"], SHcity_data_df[\"Humidity\"], marker=\"o\", facecolors=\"red\", edgecolors=\"black\")\n",
    "plt.title(\"Latitude v Humidity (Southern)\")\n",
    "plt.xlabel(\"Latitude\")\n",
    "plt.ylabel(\"Humidity (%)\")\n",
    "plt.grid(True)\n",
    "\n",
    "(slope, intercept, rvalue, pvalue, stderr)= stats.linregress(SHcity_data_df[\"Latitude\"], SHcity_data_df[\"Humidity\"])\n",
    "reg_eq = slope * SHcity_data_df[\"Latitude\"] + intercept\n",
    "line_eq = \"y = \" + str(round(slope,2)) + \"x + \" + str(round(intercept,2))\n",
    "plt.plot(SHcity_data_df[\"Latitude\"],reg_eq,\"--\")\n",
    "plt.annotate(line_eq,(-50,11),fontsize=15,color=\"red\")\n",
    "print(f\"The r-squared is: {rvalue**2}\")\n",
    "\n",
    "plt.savefig(\"../output_data/Fig8.png\")"
   ]
  },
  {
   "cell_type": "markdown",
   "metadata": {},
   "source": [
    "####  Northern Hemisphere - Cloudiness (%) vs. Latitude Linear Regression"
   ]
  },
  {
   "cell_type": "code",
   "execution_count": 19,
   "metadata": {},
   "outputs": [
    {
     "name": "stdout",
     "output_type": "stream",
     "text": [
      "The r-squared is: 0.0516834031851256\n"
     ]
    },
    {
     "data": {
      "image/png": "[encoded data removed]",
      "text/plain": [
       "<Figure size 432x288 with 1 Axes>"
      ]
     },
     "metadata": {
      "needs_background": "light"
     },
     "output_type": "display_data"
    }
   ],
   "source": [
    "plt.scatter(NHcity_data_df[\"Latitude\"], NHcity_data_df[\"Cloudiness\"], marker=\"o\", facecolors=\"red\", edgecolors=\"black\")\n",
    "plt.title(\"Latitude v Cloudiness (Northern)\")\n",
    "plt.xlabel(\"Latitude\")\n",
    "plt.ylabel(\"Cloudiness (%)\")\n",
    "plt.grid(True)\n",
    "\n",
    "(slope, intercept, rvalue, pvalue, stderr)= stats.linregress(NHcity_data_df[\"Latitude\"], NHcity_data_df[\"Cloudiness\"])\n",
    "reg_eq = slope * NHcity_data_df[\"Latitude\"] + intercept\n",
    "line_eq = \"y = \" + str(round(slope,2)) + \"x + \" + str(round(intercept,2))\n",
    "plt.plot(NHcity_data_df[\"Latitude\"],reg_eq,\"--\")\n",
    "plt.annotate(line_eq,(13,8),fontsize=15,color=\"red\")\n",
    "print(f\"The r-squared is: {rvalue**2}\")\n",
    "\n",
    "plt.savefig(\"../output_data/Fig9.png\")"
   ]
  },
  {
   "cell_type": "markdown",
   "metadata": {},
   "source": [
    "####  Southern Hemisphere - Cloudiness (%) vs. Latitude Linear Regression"
   ]
  },
  {
   "cell_type": "code",
   "execution_count": 20,
   "metadata": {},
   "outputs": [
    {
     "name": "stdout",
     "output_type": "stream",
     "text": [
      "The r-squared is: 0.07003118478093337\n"
     ]
    },
    {
     "data": {
      "image/png": "[encoded data removed]",
      "text/plain": [
       "<Figure size 432x288 with 1 Axes>"
      ]
     },
     "metadata": {
      "needs_background": "light"
     },
     "output_type": "display_data"
    }
   ],
   "source": [
    "plt.scatter(SHcity_data_df[\"Latitude\"], SHcity_data_df[\"Cloudiness\"], marker=\"o\", facecolors=\"red\", edgecolors=\"black\")\n",
    "plt.title(\"Latitude v Cloudiness (Southern)\")\n",
    "plt.xlabel(\"Latitude\")\n",
    "plt.ylabel(\"Cloudiness (%)\")\n",
    "plt.grid(True)\n",
    "\n",
    "(slope, intercept, rvalue, pvalue, stderr)= stats.linregress(SHcity_data_df[\"Latitude\"], SHcity_data_df[\"Cloudiness\"])\n",
    "reg_eq = slope * SHcity_data_df[\"Latitude\"] + intercept\n",
    "line_eq = \"y = \" + str(round(slope,2)) + \"x + \" + str(round(intercept,2))\n",
    "plt.plot(SHcity_data_df[\"Latitude\"],reg_eq,\"--\")\n",
    "plt.annotate(line_eq,(-57,53),fontsize=15,color=\"red\")\n",
    "print(f\"The r-squared is: {rvalue**2}\")\n",
    "\n",
    "plt.savefig(\"../output_data/Fig10.png\")"
   ]
  },
  {
   "cell_type": "markdown",
   "metadata": {},
   "source": [
    "####  Northern Hemisphere - Wind Speed (mph) vs. Latitude Linear Regression"
   ]
  },
  {
   "cell_type": "code",
   "execution_count": 21,
   "metadata": {},
   "outputs": [
    {
     "name": "stdout",
     "output_type": "stream",
     "text": [
      "The r-squared is: 0.024229091632654323\n"
     ]
    },
    {
     "data": {
      "image/png": "[encoded data removed]",
      "text/plain": [
       "<Figure size 432x288 with 1 Axes>"
      ]
     },
     "metadata": {
      "needs_background": "light"
     },
     "output_type": "display_data"
    }
   ],
   "source": [
    "plt.scatter(NHcity_data_df[\"Latitude\"], NHcity_data_df[\"Wind Speed\"], marker=\"o\", facecolors=\"red\", edgecolors=\"black\")\n",
    "plt.title(\"Latitude v Wind Speed (Northern)\")\n",
    "plt.xlabel(\"Latitude\")\n",
    "plt.ylabel(\"Wind Speed (MPH)\")\n",
    "plt.grid(True)\n",
    "\n",
    "(slope, intercept, rvalue, pvalue, stderr)= stats.linregress(NHcity_data_df[\"Latitude\"], NHcity_data_df[\"Wind Speed\"])\n",
    "reg_eq = slope * NHcity_data_df[\"Latitude\"] + intercept\n",
    "line_eq = \"y = \" + str(round(slope,2)) + \"x + \" + str(round(intercept,2))\n",
    "plt.plot(NHcity_data_df[\"Latitude\"],reg_eq,\"--\")\n",
    "plt.annotate(line_eq,(6,27),fontsize=15,color=\"red\")\n",
    "print(f\"The r-squared is: {rvalue**2}\")\n",
    "\n",
    "plt.savefig(\"../output_data/Fig11.png\")"
   ]
  },
  {
   "cell_type": "markdown",
   "metadata": {},
   "source": [
    "####  Southern Hemisphere - Wind Speed (mph) vs. Latitude Linear Regression"
   ]
  },
  {
   "cell_type": "code",
   "execution_count": 22,
   "metadata": {},
   "outputs": [
    {
     "name": "stdout",
     "output_type": "stream",
     "text": [
      "The r-squared is: 0.0595847333588529\n"
     ]
    },
    {
     "data": {
      "image/png": "[encoded data removed]",
      "text/plain": [
       "<Figure size 432x288 with 1 Axes>"
      ]
     },
     "metadata": {
      "needs_background": "light"
     },
     "output_type": "display_data"
    }
   ],
   "source": [
    "plt.scatter(SHcity_data_df[\"Latitude\"], SHcity_data_df[\"Wind Speed\"], marker=\"o\", facecolors=\"red\", edgecolors=\"black\")\n",
    "plt.title(\"Latitude v Cloudiness (Southern)\")\n",
    "plt.xlabel(\"Latitude\")\n",
    "plt.ylabel(\"Wind Speed (MPH)\")\n",
    "plt.grid(True)\n",
    "\n",
    "(slope, intercept, rvalue, pvalue, stderr)= stats.linregress(SHcity_data_df[\"Latitude\"], SHcity_data_df[\"Wind Speed\"])\n",
    "reg_eq = SHcity_data_df[\"Latitude\"]*slope + intercept\n",
    "line_eq = \"y = \" + str(round(slope,2)) + \"x + \" + str(round(intercept,2))\n",
    "plt.plot(SHcity_data_df[\"Latitude\"],reg_eq,\"--\")\n",
    "plt.annotate(line_eq,(-57,19),fontsize=15,color=\"red\")\n",
    "print(f\"The r-squared is: {rvalue**2}\")\n",
    "\n",
    "plt.savefig(\"../output_data/Fig12.png\")"
   ]
  },
  {
   "cell_type": "code",
   "execution_count": 23,
   "metadata": {},
   "outputs": [],
   "source": [
    "clean_city_data_df.to_csv(\"../output_data/cities.csv\",\n",
    "                  encoding=\"utf-8\", index=False, header=True)"
   ]
  },
  {
   "cell_type": "code",
   "execution_count": null,
   "metadata": {},
   "outputs": [],
   "source": []
  }
 ],
 "metadata": {
  "anaconda-cloud": {},
  "kernel_info": {
   "name": "python3"
  },
  "kernelspec": {
   "display_name": "Python 3",
   "language": "python",
   "name": "python3"
  },
  "language_info": {
   "codemirror_mode": {
    "name": "ipython",
    "version": 3
   },
   "file_extension": ".py",
   "mimetype": "text/x-python",
   "name": "python",
   "nbconvert_exporter": "python",
   "pygments_lexer": "ipython3",
   "version": "3.6.10"
  },
  "latex_envs": {
   "LaTeX_envs_menu_present": true,
   "autoclose": false,
   "autocomplete": true,
   "bibliofile": "biblio.bib",
   "cite_by": "apalike",
   "current_citInitial": 1,
   "eqLabelWithNumbers": true,
   "eqNumInitial": 1,
   "hotkeys": {
    "equation": "Ctrl-E",
    "itemize": "Ctrl-I"
   },
   "labels_anchors": false,
   "latex_user_defs": false,
   "report_style_numbering": false,
   "user_envs_cfg": false
  },
  "nteract": {
   "version": "0.12.3"
  }
 },
 "nbformat": 4,
 "nbformat_minor": 2
}
